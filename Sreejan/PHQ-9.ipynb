{
 "cells": [
  {
   "cell_type": "markdown",
   "metadata": {},
   "source": [
    "# PHQ-9"
   ]
  },
  {
   "cell_type": "code",
   "execution_count": 38,
   "metadata": {},
   "outputs": [
    {
     "data": {
      "text/plain": [
       "(   uid type Little interest or pleasure in doing things  \\\n",
       " 0  u00  pre                                  Not at all   \n",
       " 1  u01  pre                                Several days   \n",
       " 2  u02  pre                     More than half the days   \n",
       " 3  u03  pre                                  Not at all   \n",
       " 4  u04  pre                                Several days   \n",
       " \n",
       "   Feeling down, depressed, hopeless.  \\\n",
       " 0                       Several days   \n",
       " 1                       Several days   \n",
       " 2                       Several days   \n",
       " 3                       Several days   \n",
       " 4                       Several days   \n",
       " \n",
       "   Trouble falling or staying asleep, or sleeping too much.  \\\n",
       " 0                                         Not at all         \n",
       " 1                                       Several days         \n",
       " 2                            More than half the days         \n",
       " 3                                         Not at all         \n",
       " 4                                         Not at all         \n",
       " \n",
       "   Feeling tired or having little energy Poor appetite or overeating  \\\n",
       " 0                          Several days                  Not at all   \n",
       " 1                          Several days                  Not at all   \n",
       " 2               More than half the days     More than half the days   \n",
       " 3                            Not at all                  Not at all   \n",
       " 4                          Several days                Several days   \n",
       " \n",
       "   Feeling bad about yourself or that you are a failure or have let yourself or your family down  \\\n",
       " 0                                         Not at all                                              \n",
       " 1                                       Several days                                              \n",
       " 2                                       Several days                                              \n",
       " 3                                         Not at all                                              \n",
       " 4                                       Several days                                              \n",
       " \n",
       "   Trouble concentrating on things, such as reading the newspaper or watching television  \\\n",
       " 0                                         Not at all                                      \n",
       " 1                                         Not at all                                      \n",
       " 2                                       Several days                                      \n",
       " 3                                         Not at all                                      \n",
       " 4                                       Several days                                      \n",
       " \n",
       "   Moving or speaking so slowly that other people could have noticed. Or the opposite being so figety or restless that you have been moving around a lot more than usual  \\\n",
       " 0                                         Not at all                                                                                                                      \n",
       " 1                                         Not at all                                                                                                                      \n",
       " 2                            More than half the days                                                                                                                      \n",
       " 3                                       Several days                                                                                                                      \n",
       " 4                                         Not at all                                                                                                                      \n",
       " \n",
       "   Thoughts that you would be better off dead, or of hurting yourself  \\\n",
       " 0                                         Not at all                   \n",
       " 1                                         Not at all                   \n",
       " 2                                         Not at all                   \n",
       " 3                                         Not at all                   \n",
       " 4                                         Not at all                   \n",
       " \n",
       "                Response  \n",
       " 0  Not difficult at all  \n",
       " 1        Very difficult  \n",
       " 2    Somewhat difficult  \n",
       " 3    Somewhat difficult  \n",
       " 4    Somewhat difficult  ,\n",
       " Index(['uid', 'type', 'Little interest or pleasure in doing things',\n",
       "        'Feeling down, depressed, hopeless.',\n",
       "        'Trouble falling or staying asleep, or sleeping too much.',\n",
       "        'Feeling tired or having little energy', 'Poor appetite or overeating',\n",
       "        'Feeling bad about yourself or that you are a failure or have let yourself or your family down',\n",
       "        'Trouble concentrating on things, such as reading the newspaper or watching television',\n",
       "        'Moving or speaking so slowly that other people could have noticed. Or the opposite being so figety or restless that you have been moving around a lot more than usual',\n",
       "        'Thoughts that you would be better off dead, or of hurting yourself',\n",
       "        'Response'],\n",
       "       dtype='object'))"
      ]
     },
     "execution_count": 38,
     "metadata": {},
     "output_type": "execute_result"
    }
   ],
   "source": [
    "import pandas as pd\n",
    "\n",
    "# Load the data from the CSV file\n",
    "file_path = './survey/PHQ-9.csv'\n",
    "phq_data = pd.read_csv(file_path)\n",
    "\n",
    "# Display the first few rows of the dataframe and its columns to understand its structure\n",
    "phq_data.head(), phq_data.columns"
   ]
  },
  {
   "cell_type": "code",
   "execution_count": 39,
   "metadata": {},
   "outputs": [
    {
     "name": "stdout",
     "output_type": "stream",
     "text": [
      "Unique values in Little interest or pleasure in doing things: ['Not At All' 'Several Days' 'More Than Half The Days' 'Nearly Every Day']\n",
      "Unique values in Feeling down, depressed, hopeless.: ['Several Days' 'Not At All' 'More Than Half The Days' 'Nearly Every Day']\n",
      "Unique values in Trouble falling or staying asleep, or sleeping too much.: ['Not At All' 'Several Days' 'More Than Half The Days' 'Nearly Every Day']\n"
     ]
    }
   ],
   "source": [
    "for column in phq_data.columns[2:5]:  # Check first three survey columns\n",
    "    print(f\"Unique values in {column}: {phq_data[column].astype(str).str.strip().str.title().unique()}\")\n",
    "    \n",
    "response_mapping = {\n",
    "    'Not At All': 0,\n",
    "    'Several Days': 1,\n",
    "    'More Than Half The Days': 2,\n",
    "    'Nearly Every Day': 3\n",
    "}\n",
    "\n",
    "for column in phq_data.columns[2:]:  # Assuming first two columns are 'uid' and 'type'\n",
    "    phq_data[column] = phq_data[column].astype(str).str.title().map(response_mapping)"
   ]
  },
  {
   "cell_type": "code",
   "execution_count": 40,
   "metadata": {},
   "outputs": [
    {
     "name": "stdout",
     "output_type": "stream",
     "text": [
      "NaN counts after mapping:\n",
      "uid                                                                                                                                                                       0\n",
      "type                                                                                                                                                                      0\n",
      "Little interest or pleasure in doing things                                                                                                                               0\n",
      "Feeling down, depressed, hopeless.                                                                                                                                        0\n",
      "Trouble falling or staying asleep, or sleeping too much.                                                                                                                  0\n",
      "Feeling tired or having little energy                                                                                                                                     0\n",
      "Poor appetite or overeating                                                                                                                                               0\n",
      "Feeling bad about yourself or that you are a failure or have let yourself or your family down                                                                             0\n",
      "Trouble concentrating on things, such as reading the newspaper or watching television                                                                                     0\n",
      "Moving or speaking so slowly that other people could have noticed. Or the opposite being so figety or restless that you have been moving around a lot more than usual     0\n",
      "Thoughts that you would be better off dead, or of hurting yourself                                                                                                        0\n",
      "Response                                                                                                                                                                 84\n",
      "dtype: int64\n"
     ]
    }
   ],
   "source": [
    "print(\"NaN counts after mapping:\")\n",
    "print(phq_data.isna().sum())"
   ]
  },
  {
   "cell_type": "code",
   "execution_count": 41,
   "metadata": {},
   "outputs": [
    {
     "name": "stdout",
     "output_type": "stream",
     "text": [
      "Unique 'type' values before adjustment: ['pre' 'post']\n",
      "Unique 'uid' values check (sample): 46    u00\n",
      "19    u22\n",
      "41    u53\n",
      "79    u52\n",
      "54    u10\n",
      "Name: uid, dtype: object\n",
      "Number of participants in Pre only: 46\n",
      "Number of participants in Post only: 38\n",
      "Number of common participants: 38\n",
      "Final Pre data counts (non-NaN):\n",
      "uid                                                                                                                                                                      38\n",
      "type                                                                                                                                                                     38\n",
      "Little interest or pleasure in doing things                                                                                                                              38\n",
      "Feeling down, depressed, hopeless.                                                                                                                                       38\n",
      "Trouble falling or staying asleep, or sleeping too much.                                                                                                                 38\n",
      "Feeling tired or having little energy                                                                                                                                    38\n",
      "Poor appetite or overeating                                                                                                                                              38\n",
      "Feeling bad about yourself or that you are a failure or have let yourself or your family down                                                                            38\n",
      "Trouble concentrating on things, such as reading the newspaper or watching television                                                                                    38\n",
      "Moving or speaking so slowly that other people could have noticed. Or the opposite being so figety or restless that you have been moving around a lot more than usual    38\n",
      "Thoughts that you would be better off dead, or of hurting yourself                                                                                                       38\n",
      "Response                                                                                                                                                                  0\n",
      "dtype: int64\n",
      "\n",
      "Final Post data counts (non-NaN):\n",
      "uid                                                                                                                                                                      38\n",
      "type                                                                                                                                                                     38\n",
      "Little interest or pleasure in doing things                                                                                                                              38\n",
      "Feeling down, depressed, hopeless.                                                                                                                                       38\n",
      "Trouble falling or staying asleep, or sleeping too much.                                                                                                                 38\n",
      "Feeling tired or having little energy                                                                                                                                    38\n",
      "Poor appetite or overeating                                                                                                                                              38\n",
      "Feeling bad about yourself or that you are a failure or have let yourself or your family down                                                                            38\n",
      "Trouble concentrating on things, such as reading the newspaper or watching television                                                                                    38\n",
      "Moving or speaking so slowly that other people could have noticed. Or the opposite being so figety or restless that you have been moving around a lot more than usual    38\n",
      "Thoughts that you would be better off dead, or of hurting yourself                                                                                                       38\n",
      "Response                                                                                                                                                                  0\n",
      "dtype: int64\n"
     ]
    }
   ],
   "source": [
    "print(\"Unique 'type' values before adjustment:\", phq_data['type'].unique())\n",
    "\n",
    "# Normalize 'type' field for consistency\n",
    "phq_data['type'] = phq_data['type'].str.strip().str.title()\n",
    "\n",
    "# Verify 'uid' consistency and format\n",
    "print(\"Unique 'uid' values check (sample):\", phq_data['uid'].sample(5))\n",
    "\n",
    "# Identify participants who have both Pre and Post data\n",
    "pre_participants = set(phq_data[phq_data['type'] == 'Pre']['uid'])\n",
    "post_participants = set(phq_data[phq_data['type'] == 'Post']['uid'])\n",
    "common_participants = pre_participants & post_participants\n",
    "\n",
    "print(f\"Number of participants in Pre only: {len(pre_participants)}\")\n",
    "print(f\"Number of participants in Post only: {len(post_participants)}\")\n",
    "print(f\"Number of common participants: {len(common_participants)}\")\n",
    "\n",
    "# Filter datasets to only include common participants\n",
    "pre_data = phq_data[(phq_data['type'] == 'Pre') & (phq_data['uid'].isin(common_participants))]\n",
    "post_data = phq_data[(phq_data['type'] == 'Post') & (phq_data['uid'].isin(common_participants))]\n",
    "\n",
    "# Save the filtered data\n",
    "pre_data.to_csv('./data/PHQ-9/PHQ-9_Pre.csv', index=False)\n",
    "post_data.to_csv('./data/PHQ-9/PHQ-9_Post.csv', index=False)\n",
    "\n",
    "# Check final data counts\n",
    "print(\"Final Pre data counts (non-NaN):\")\n",
    "print(pre_data.count())\n",
    "print(\"\\nFinal Post data counts (non-NaN):\")\n",
    "print(post_data.count())"
   ]
  },
  {
   "cell_type": "code",
   "execution_count": 42,
   "metadata": {},
   "outputs": [
    {
     "name": "stderr",
     "output_type": "stream",
     "text": [
      "/Users/sreejanpatel/Library/Python/3.6/lib/python/site-packages/ipykernel_launcher.py:2: SettingWithCopyWarning: \n",
      "A value is trying to be set on a copy of a slice from a DataFrame.\n",
      "Try using .loc[row_indexer,col_indexer] = value instead\n",
      "\n",
      "See the caveats in the documentation: https://pandas.pydata.org/pandas-docs/stable/user_guide/indexing.html#returning-a-view-versus-a-copy\n",
      "  \n",
      "/Users/sreejanpatel/Library/Python/3.6/lib/python/site-packages/ipykernel_launcher.py:3: SettingWithCopyWarning: \n",
      "A value is trying to be set on a copy of a slice from a DataFrame.\n",
      "Try using .loc[row_indexer,col_indexer] = value instead\n",
      "\n",
      "See the caveats in the documentation: https://pandas.pydata.org/pandas-docs/stable/user_guide/indexing.html#returning-a-view-versus-a-copy\n",
      "  This is separate from the ipykernel package so we can avoid doing imports until\n"
     ]
    }
   ],
   "source": [
    "# Calculate the total score for each participant\n",
    "pre_data['total_score'] = pre_data.iloc[:, 2:].sum(axis=1)\n",
    "post_data['total_score'] = post_data.iloc[:, 2:].sum(axis=1)\n",
    "\n",
    "# Save the total scores\n",
    "pre_data.to_csv('./data/PHQ-9/PHQ-9_Pre.csv', index=False)\n",
    "post_data.to_csv('./data/PHQ-9/PHQ-9_Post.csv', index=False)\n"
   ]
  },
  {
   "cell_type": "code",
   "execution_count": 43,
   "metadata": {},
   "outputs": [
    {
     "name": "stdout",
     "output_type": "stream",
     "text": [
      "Pre Mean: 5.815789473684211\n",
      "Post Mean: 6.2631578947368425\n",
      "Pre Median: 5.0\n",
      "Post Median: 4.5\n",
      "Pre Mode: 0    5.0\n",
      "dtype: float64\n",
      "Post Mode: 0    4.0\n",
      "1    8.0\n",
      "dtype: float64\n",
      "Pre Standard Deviation: 4.837104691064545\n",
      "Post Standard Deviation: 5.838753155154608\n"
     ]
    }
   ],
   "source": [
    "# Calculate the mean,median,mode,SD total score for each group\n",
    "\n",
    "pre_mean = pre_data['total_score'].mean()\n",
    "post_mean = post_data['total_score'].mean()\n",
    "pre_median = pre_data['total_score'].median()\n",
    "post_median = post_data['total_score'].median()\n",
    "pre_mode = pre_data['total_score'].mode()\n",
    "post_mode = post_data['total_score'].mode()\n",
    "pre_sd = pre_data['total_score'].std()\n",
    "post_sd = post_data['total_score'].std()\n",
    "\n",
    "print(f\"Pre Mean: {pre_mean}\")\n",
    "print(f\"Post Mean: {post_mean}\")\n",
    "print(f\"Pre Median: {pre_median}\")\n",
    "print(f\"Post Median: {post_median}\")\n",
    "print(f\"Pre Mode: {pre_mode}\")\n",
    "print(f\"Post Mode: {post_mode}\")\n",
    "print(f\"Pre Standard Deviation: {pre_sd}\")\n",
    "print(f\"Post Standard Deviation: {post_sd}\")"
   ]
  },
  {
   "cell_type": "markdown",
   "metadata": {},
   "source": [
    "## Visualisation of Data"
   ]
  },
  {
   "cell_type": "code",
   "execution_count": 44,
   "metadata": {},
   "outputs": [
    {
     "data": {
      "image/png": "[encoded data removed]",
      "text/plain": [
       "<Figure size 720x432 with 1 Axes>"
      ]
     },
     "metadata": {
      "needs_background": "light"
     },
     "output_type": "display_data"
    }
   ],
   "source": [
    "import matplotlib.pyplot as plt\n",
    "\n",
    "# Load the pre and post datasets\n",
    "pre_data = pd.read_csv('./data/PHQ-9/PHQ-9_Pre.csv')\n",
    "post_data = pd.read_csv('./data/PHQ-9/PHQ-9_Post.csv')\n",
    "\n",
    "# Plot the total score for each student pre and post\n",
    "plt.figure(figsize=(10, 6))\n",
    "\n",
    "# Plot pre data\n",
    "plt.scatter(pre_data.index, pre_data['total_score'], label='Pre', color='blue', marker='o')\n",
    "\n",
    "# Plot post data\n",
    "plt.scatter(post_data.index, post_data['total_score'], label='Post', color='red', marker='x')\n",
    "\n",
    "# Add labels and title\n",
    "plt.xlabel('Student Index')\n",
    "plt.ylabel('Total Score')\n",
    "plt.title('Total Score of Each Student Pre and Post')\n",
    "\n",
    "# Add legend\n",
    "plt.legend()\n",
    "\n",
    "# Show plot\n",
    "plt.grid(True)\n",
    "plt.tight_layout()\n",
    "plt.show()\n"
   ]
  },
  {
   "cell_type": "markdown",
   "metadata": {},
   "source": [
    "# Pre and Post"
   ]
  },
  {
   "cell_type": "code",
   "execution_count": 45,
   "metadata": {},
   "outputs": [
    {
     "name": "stdout",
     "output_type": "stream",
     "text": [
      "Pre data normality test: statistic=0.8622614145278931, p-value=0.0002577931445557624\n",
      "Post data normality test: statistic=0.8532085418701172, p-value=0.00015543548215646297\n",
      "T-statistic: 274.0, p-value: 0.35080329754782624\n"
     ]
    }
   ],
   "source": [
    "import pandas as pd\n",
    "from scipy import stats\n",
    "from scipy.stats import wilcoxon\n",
    "\n",
    "# Load the pre and post survey data from separate CSV files\n",
    "pre_data = pd.read_csv('./data/PHQ-9/PHQ-9_Pre.csv')\n",
    "post_data = pd.read_csv('./data/PHQ-9/PHQ-9_Post.csv')\n",
    "\n",
    "# Merge the pre and post survey data on the 'uid' column\n",
    "merged_data = pd.merge(pre_data, post_data, on='uid', suffixes=('_pre', '_post'))\n",
    "\n",
    "# Calculate the difference between post and pre total scores\n",
    "merged_data['score_diff'] = merged_data['total_score_post'] - merged_data['total_score_pre']\n",
    "\n",
    "stat_pre, p_pre = stats.shapiro(merged_data['total_score_pre'])\n",
    "stat_post, p_post = stats.shapiro(merged_data['total_score_post'])\n",
    "\n",
    "print(f\"Pre data normality test: statistic={stat_pre}, p-value={p_pre}\")\n",
    "print(f\"Post data normality test: statistic={stat_post}, p-value={p_post}\")\n",
    "\n",
    "# Perform wilcoxon signed-rank test\n",
    "statistic, p_value = wilcoxon(merged_data['total_score_post'], merged_data['total_score_pre'])\n",
    "\n",
    "print(f\"T-statistic: {statistic}, p-value: {p_value}\")"
   ]
  }
 ],
 "metadata": {
  "kernelspec": {
   "display_name": ".venv",
   "language": "python",
   "name": "python3"
  },
  "language_info": {
   "codemirror_mode": {
    "name": "ipython",
    "version": 3
   },
   "file_extension": ".py",
   "mimetype": "text/x-python",
   "name": "python",
   "nbconvert_exporter": "python",
   "pygments_lexer": "ipython3",
   "version": "3.6.7"
  }
 },
 "nbformat": 4,
 "nbformat_minor": 2
}
