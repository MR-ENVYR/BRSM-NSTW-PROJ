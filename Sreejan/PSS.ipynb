{
 "cells": [
  {
   "cell_type": "markdown",
   "metadata": {},
   "source": [
    "# Perceived Stress Scale"
   ]
  },
  {
   "cell_type": "code",
   "execution_count": 2,
   "metadata": {},
   "outputs": [
    {
     "data": {
      "text/plain": [
       "(   uid type  \\\n",
       " 0  u00  pre   \n",
       " 1  u01  pre   \n",
       " 2  u02  pre   \n",
       " 3  u03  pre   \n",
       " 4  u04  pre   \n",
       " \n",
       "   1. In the last month, how often have you been upset because of something that happened unexpectedly?  \\\n",
       " 0                                           Sometime                                                     \n",
       " 1                                           Sometime                                                     \n",
       " 2                                       Fairly often                                                     \n",
       " 3                                           Sometime                                                     \n",
       " 4                                       Almost never                                                     \n",
       " \n",
       "   2. In the last month, how often have you felt that you were unable to control the important things in your life?  \\\n",
       " 0                                           Sometime                                                                 \n",
       " 1                                           Sometime                                                                 \n",
       " 2                                           Sometime                                                                 \n",
       " 3                                       Almost never                                                                 \n",
       " 4                                       Almost never                                                                 \n",
       " \n",
       "   3. In the last month, how often have you felt nervous and \"stressed\"?  \\\n",
       " 0                                       Fairly often                      \n",
       " 1                                           Sometime                      \n",
       " 2                                           Sometime                      \n",
       " 3                                           Sometime                      \n",
       " 4                                       Fairly often                      \n",
       " \n",
       "   4. In the last month, how often have you felt confident about your ability to handle your personal problems?  \\\n",
       " 0                                       Fairly often                                                             \n",
       " 1                                           Sometime                                                             \n",
       " 2                                       Fairly often                                                             \n",
       " 3                                       Almost never                                                             \n",
       " 4                                           Sometime                                                             \n",
       " \n",
       "   5. In the last month, how often have you felt that things were going your way?  \\\n",
       " 0                                           Sometime                               \n",
       " 1                                       Fairly often                               \n",
       " 2                                       Almost never                               \n",
       " 3                                           Sometime                               \n",
       " 4                                           Sometime                               \n",
       " \n",
       "   6. In the last month, how often have you found that you could not cope with all the things that you had to do?  \\\n",
       " 0                                         Very often                                                               \n",
       " 1                                           Sometime                                                               \n",
       " 2                                           Sometime                                                               \n",
       " 3                                              Never                                                               \n",
       " 4                                       Fairly often                                                               \n",
       " \n",
       "   7. In the last month, how often have you been able to control irritations in your life?  \\\n",
       " 0                                           Sometime                                        \n",
       " 1                                       Fairly often                                        \n",
       " 2                                       Almost never                                        \n",
       " 3                                       Almost never                                        \n",
       " 4                                           Sometime                                        \n",
       " \n",
       "   8. In the last month, how often have you felt that you were on top of things?  \\\n",
       " 0                                           Sometime                              \n",
       " 1                                       Fairly often                              \n",
       " 2                                           Sometime                              \n",
       " 3                                              Never                              \n",
       " 4                                       Almost never                              \n",
       " \n",
       "   9. In the last month, how often have you been angered because of things that were outside of your control?  \\\n",
       " 0                                       Fairly often                                                           \n",
       " 1                                       Almost never                                                           \n",
       " 2                                           Sometime                                                           \n",
       " 3                                              Never                                                           \n",
       " 4                                           Sometime                                                           \n",
       " \n",
       "   10. In the last month, how often have you felt difficulties were piling up so high that you could not overcome them?  \n",
       " 0                                       Fairly often                                                                    \n",
       " 1                                       Almost never                                                                    \n",
       " 2                                       Almost never                                                                    \n",
       " 3                                              Never                                                                    \n",
       " 4                                           Sometime                                                                    ,\n",
       " Index(['uid', 'type',\n",
       "        '1. In the last month, how often have you been upset because of something that happened unexpectedly?',\n",
       "        '2. In the last month, how often have you felt that you were unable to control the important things in your life?',\n",
       "        '3. In the last month, how often have you felt nervous and \"stressed\"?',\n",
       "        '4. In the last month, how often have you felt confident about your ability to handle your personal problems?',\n",
       "        '5. In the last month, how often have you felt that things were going your way?',\n",
       "        '6. In the last month, how often have you found that you could not cope with all the things that you had to do?',\n",
       "        '7. In the last month, how often have you been able to control irritations in your life?',\n",
       "        '8. In the last month, how often have you felt that you were on top of things?',\n",
       "        '9. In the last month, how often have you been angered because of things that were outside of your control?',\n",
       "        '10. In the last month, how often have you felt difficulties were piling up so high that you could not overcome them?'],\n",
       "       dtype='object'))"
      ]
     },
     "execution_count": 2,
     "metadata": {},
     "output_type": "execute_result"
    }
   ],
   "source": [
    "import pandas as pd\n",
    "\n",
    "# Load the data from the CSV file\n",
    "file_path = './survey/PerceivedStressScale.csv'\n",
    "pss_data = pd.read_csv(file_path)\n",
    "\n",
    "# Display the first few rows of the dataframe and its columns to understand its structure\n",
    "pss_data.head(), pss_data.columns"
   ]
  },
  {
   "cell_type": "code",
   "execution_count": 3,
   "metadata": {},
   "outputs": [
    {
     "name": "stdout",
     "output_type": "stream",
     "text": [
      "Unique values in 1. In the last month, how often have you been upset because of something that happened unexpectedly?: ['Sometime' 'Fairly Often' 'Almost Never' 'Very Often' 'Never']\n",
      "Unique values in 2. In the last month, how often have you felt that you were unable to control the important things in your life?: ['Sometime' 'Almost Never' 'Fairly Often' 'Never' 'Very Often']\n",
      "Unique values in 3. In the last month, how often have you felt nervous and \"stressed\"?: ['Fairly Often' 'Sometime' 'Almost Never' 'Very Often' 'Nan']\n"
     ]
    }
   ],
   "source": [
    "for column in pss_data.columns[2:5]:  # Check first three survey columns\n",
    "    print(f\"Unique values in {column}: {pss_data[column].astype(str).str.strip().str.title().unique()}\")\n",
    "    \n",
    "response_mapping = {\n",
    "    'Never': 0,\n",
    "    'Almost Never': 1,\n",
    "    'Sometime': 2,\n",
    "    'Fairly Often': 3,\n",
    "    'Very Often' : 4\n",
    "}\n",
    "\n",
    "for column in pss_data.columns[2:]:  # Assuming first two columns are 'uid' and 'type'\n",
    "    pss_data[column] = pss_data[column].astype(str).str.title().map(response_mapping)"
   ]
  },
  {
   "cell_type": "code",
   "execution_count": 4,
   "metadata": {},
   "outputs": [
    {
     "name": "stdout",
     "output_type": "stream",
     "text": [
      "NaN counts after mapping:\n",
      "uid                                                                                                                     0\n",
      "type                                                                                                                    0\n",
      "1. In the last month, how often have you been upset because of something that happened unexpectedly?                    0\n",
      "2. In the last month, how often have you felt that you were unable to control the important things in your life?        0\n",
      "3. In the last month, how often have you felt nervous and \"stressed\"?                                                   1\n",
      "4. In the last month, how often have you felt confident about your ability to handle your personal problems?            0\n",
      "5. In the last month, how often have you felt that things were going your way?                                          1\n",
      "6. In the last month, how often have you found that you could not cope with all the things that you had to do?          0\n",
      "7. In the last month, how often have you been able to control irritations in your life?                                 0\n",
      "8. In the last month, how often have you felt that you were on top of things?                                           0\n",
      "9. In the last month, how often have you been angered because of things that were outside of your control?              0\n",
      "10. In the last month, how often have you felt difficulties were piling up so high that you could not overcome them?    0\n",
      "dtype: int64\n"
     ]
    }
   ],
   "source": [
    "print(\"NaN counts after mapping:\")\n",
    "print(pss_data.isna().sum())\n",
    "\n",
    "pss_data.fillna(2, inplace=True)  # Assuming 2 is the neutral score"
   ]
  },
  {
   "cell_type": "code",
   "execution_count": 5,
   "metadata": {},
   "outputs": [
    {
     "name": "stdout",
     "output_type": "stream",
     "text": [
      "Unique 'type' values before adjustment: ['pre' 'post']\n",
      "Unique 'uid' values check (sample): 80    u52\n",
      "2     u02\n",
      "15    u17\n",
      "56    u15\n",
      "55    u14\n",
      "Name: uid, dtype: object\n",
      "Number of participants in Pre only: 46\n",
      "Number of participants in Post only: 39\n",
      "Number of common participants: 39\n",
      "Final Pre data counts (non-NaN):\n",
      "uid                                                                                                                     39\n",
      "type                                                                                                                    39\n",
      "1. In the last month, how often have you been upset because of something that happened unexpectedly?                    39\n",
      "2. In the last month, how often have you felt that you were unable to control the important things in your life?        39\n",
      "3. In the last month, how often have you felt nervous and \"stressed\"?                                                   39\n",
      "4. In the last month, how often have you felt confident about your ability to handle your personal problems?            39\n",
      "5. In the last month, how often have you felt that things were going your way?                                          39\n",
      "6. In the last month, how often have you found that you could not cope with all the things that you had to do?          39\n",
      "7. In the last month, how often have you been able to control irritations in your life?                                 39\n",
      "8. In the last month, how often have you felt that you were on top of things?                                           39\n",
      "9. In the last month, how often have you been angered because of things that were outside of your control?              39\n",
      "10. In the last month, how often have you felt difficulties were piling up so high that you could not overcome them?    39\n",
      "dtype: int64\n",
      "\n",
      "Final Post data counts (non-NaN):\n",
      "uid                                                                                                                     39\n",
      "type                                                                                                                    39\n",
      "1. In the last month, how often have you been upset because of something that happened unexpectedly?                    39\n",
      "2. In the last month, how often have you felt that you were unable to control the important things in your life?        39\n",
      "3. In the last month, how often have you felt nervous and \"stressed\"?                                                   39\n",
      "4. In the last month, how often have you felt confident about your ability to handle your personal problems?            39\n",
      "5. In the last month, how often have you felt that things were going your way?                                          39\n",
      "6. In the last month, how often have you found that you could not cope with all the things that you had to do?          39\n",
      "7. In the last month, how often have you been able to control irritations in your life?                                 39\n",
      "8. In the last month, how often have you felt that you were on top of things?                                           39\n",
      "9. In the last month, how often have you been angered because of things that were outside of your control?              39\n",
      "10. In the last month, how often have you felt difficulties were piling up so high that you could not overcome them?    39\n",
      "dtype: int64\n"
     ]
    }
   ],
   "source": [
    "print(\"Unique 'type' values before adjustment:\", pss_data['type'].unique())\n",
    "\n",
    "# Normalize 'type' field for consistency\n",
    "pss_data['type'] = pss_data['type'].str.strip().str.title()\n",
    "\n",
    "# Verify 'uid' consistency and format\n",
    "print(\"Unique 'uid' values check (sample):\", pss_data['uid'].sample(5))\n",
    "\n",
    "# Identify participants who have both Pre and Post data\n",
    "pre_participants = set(pss_data[pss_data['type'] == 'Pre']['uid'])\n",
    "post_participants = set(pss_data[pss_data['type'] == 'Post']['uid'])\n",
    "common_participants = pre_participants & post_participants\n",
    "\n",
    "print(f\"Number of participants in Pre only: {len(pre_participants)}\")\n",
    "print(f\"Number of participants in Post only: {len(post_participants)}\")\n",
    "print(f\"Number of common participants: {len(common_participants)}\")\n",
    "\n",
    "# Filter datasets to only include common participants\n",
    "pre_data = pss_data[(pss_data['type'] == 'Pre') & (pss_data['uid'].isin(common_participants))]\n",
    "post_data = pss_data[(pss_data['type'] == 'Post') & (pss_data['uid'].isin(common_participants))]\n",
    "\n",
    "# Save the filtered data\n",
    "pre_data.to_csv('./data/PSS/PSS_Pre.csv', index=False)\n",
    "post_data.to_csv('./data/PSS/PSS_Post.csv', index=False)\n",
    "\n",
    "# Check final data counts\n",
    "print(\"Final Pre data counts (non-NaN):\")\n",
    "print(pre_data.count())\n",
    "print(\"\\nFinal Post data counts (non-NaN):\")\n",
    "print(post_data.count())"
   ]
  },
  {
   "cell_type": "code",
   "execution_count": 6,
   "metadata": {},
   "outputs": [
    {
     "name": "stdout",
     "output_type": "stream",
     "text": [
      "Final Pre data counts (non-NaN):\n",
      "uid                                                                                                                     39\n",
      "type                                                                                                                    39\n",
      "1. In the last month, how often have you been upset because of something that happened unexpectedly?                    39\n",
      "2. In the last month, how often have you felt that you were unable to control the important things in your life?        39\n",
      "3. In the last month, how often have you felt nervous and \"stressed\"?                                                   39\n",
      "4. In the last month, how often have you felt confident about your ability to handle your personal problems?            39\n",
      "5. In the last month, how often have you felt that things were going your way?                                          39\n",
      "6. In the last month, how often have you found that you could not cope with all the things that you had to do?          39\n",
      "7. In the last month, how often have you been able to control irritations in your life?                                 39\n",
      "8. In the last month, how often have you felt that you were on top of things?                                           39\n",
      "9. In the last month, how often have you been angered because of things that were outside of your control?              39\n",
      "10. In the last month, how often have you felt difficulties were piling up so high that you could not overcome them?    39\n",
      "dtype: int64\n",
      "\n",
      "Final Post data counts (non-NaN):\n",
      "uid                                                                                                                     39\n",
      "type                                                                                                                    39\n",
      "1. In the last month, how often have you been upset because of something that happened unexpectedly?                    39\n",
      "2. In the last month, how often have you felt that you were unable to control the important things in your life?        39\n",
      "3. In the last month, how often have you felt nervous and \"stressed\"?                                                   39\n",
      "4. In the last month, how often have you felt confident about your ability to handle your personal problems?            39\n",
      "5. In the last month, how often have you felt that things were going your way?                                          39\n",
      "6. In the last month, how often have you found that you could not cope with all the things that you had to do?          39\n",
      "7. In the last month, how often have you been able to control irritations in your life?                                 39\n",
      "8. In the last month, how often have you felt that you were on top of things?                                           39\n",
      "9. In the last month, how often have you been angered because of things that were outside of your control?              39\n",
      "10. In the last month, how often have you felt difficulties were piling up so high that you could not overcome them?    39\n",
      "dtype: int64\n"
     ]
    }
   ],
   "source": [
    "pre_data = pd.read_csv('./data/PSS/PSS_Pre.csv')\n",
    "post_data = pd.read_csv('./data/PSS/PSS_Post.csv')\n",
    "\n",
    "# Check final data counts\n",
    "print(\"Final Pre data counts (non-NaN):\")\n",
    "print(pre_data.count())\n",
    "print(\"\\nFinal Post data counts (non-NaN):\")\n",
    "print(post_data.count())\n",
    "\n",
    "# calculate the sum of the scores for each participant\n",
    "pre_data['total_score'] = pre_data.iloc[:, 2:].sum(axis=1)\n",
    "post_data['total_score'] = post_data.iloc[:, 2:].sum(axis=1)\n",
    "\n",
    "# Save the total scores\n",
    "pre_data.to_csv('./data/PSS/PSS_Pre.csv', index=False)\n",
    "post_data.to_csv('./data/PSS/PSS_Post.csv', index=False)"
   ]
  },
  {
   "cell_type": "code",
   "execution_count": 7,
   "metadata": {},
   "outputs": [
    {
     "name": "stdout",
     "output_type": "stream",
     "text": [
      "Pre Mean: 21.256410256410255\n",
      "Post Mean: 21.435897435897434\n",
      "Pre Median: 21.0\n",
      "Post Median: 21.0\n",
      "Pre Mode: 0    20.0\n",
      "Name: total_score, dtype: float64\n",
      "Post Mode: 0    20.0\n",
      "1    24.0\n",
      "Name: total_score, dtype: float64\n",
      "Pre Standard Deviation: 3.951801379504027\n",
      "Post Standard Deviation: 3.9188805584387287\n"
     ]
    }
   ],
   "source": [
    "# Calculate the mean,median,mode,SD total score for each group\n",
    "\n",
    "pre_mean = pre_data['total_score'].mean()\n",
    "post_mean = post_data['total_score'].mean()\n",
    "pre_median = pre_data['total_score'].median()\n",
    "post_median = post_data['total_score'].median()\n",
    "pre_mode = pre_data['total_score'].mode()\n",
    "post_mode = post_data['total_score'].mode()\n",
    "pre_sd = pre_data['total_score'].std()\n",
    "post_sd = post_data['total_score'].std()\n",
    "\n",
    "print(f\"Pre Mean: {pre_mean}\")\n",
    "print(f\"Post Mean: {post_mean}\")\n",
    "print(f\"Pre Median: {pre_median}\")\n",
    "print(f\"Post Median: {post_median}\")\n",
    "print(f\"Pre Mode: {pre_mode}\")\n",
    "print(f\"Post Mode: {post_mode}\")\n",
    "print(f\"Pre Standard Deviation: {pre_sd}\")\n",
    "print(f\"Post Standard Deviation: {post_sd}\")"
   ]
  },
  {
   "cell_type": "markdown",
   "metadata": {},
   "source": [
    "## Visualization of Data"
   ]
  },
  {
   "cell_type": "code",
   "execution_count": 8,
   "metadata": {},
   "outputs": [
    {
     "data": {
      "image/png": "[encoded data removed]",
      "text/plain": [
       "<Figure size 1000x600 with 1 Axes>"
      ]
     },
     "metadata": {},
     "output_type": "display_data"
    }
   ],
   "source": [
    "import matplotlib.pyplot as plt\n",
    "\n",
    "# Load the pre and post datasets\n",
    "pre_data = pd.read_csv('./data/PSS/PSS_Pre.csv')\n",
    "post_data = pd.read_csv('./data/PSS/PSS_Post.csv')\n",
    "\n",
    "# Plot the total score for each student pre and post\n",
    "plt.figure(figsize=(10, 6))\n",
    "\n",
    "# Plot pre data\n",
    "plt.scatter(pre_data.index, pre_data['total_score'], label='Pre', color='blue', marker='o')\n",
    "\n",
    "# Plot post data\n",
    "plt.scatter(post_data.index, post_data['total_score'], label='Post', color='red', marker='x')\n",
    "\n",
    "# Add labels and title\n",
    "plt.xlabel('Student Index')\n",
    "plt.ylabel('Total Score')\n",
    "plt.title('Total Score of Each Student Pre and Post')\n",
    "\n",
    "# Add legend\n",
    "plt.legend()\n",
    "\n",
    "# Show plot\n",
    "plt.grid(True)\n",
    "plt.tight_layout()\n",
    "plt.show()"
   ]
  },
  {
   "cell_type": "code",
   "execution_count": 9,
   "metadata": {},
   "outputs": [
    {
     "name": "stdout",
     "output_type": "stream",
     "text": [
      "T-statistic: -0.2540486723109299\n",
      "P-value: 0.8008276225934345\n",
      "There is no statistically significant difference between the pre and post scores.\n"
     ]
    }
   ],
   "source": [
    "from scipy.stats import ttest_rel\n",
    "t_stat, p_value = ttest_rel(pre_data['total_score'], post_data['total_score'])\n",
    "\n",
    "print(f\"T-statistic: {t_stat}\")\n",
    "print(f\"P-value: {p_value}\")\n",
    "\n",
    "# Interpretation\n",
    "if p_value < 0.05:\n",
    "    print(\"There is a statistically significant difference between the pre and post scores.\")\n",
    "else:\n",
    "    print(\"There is no statistically significant difference between the pre and post scores.\")"
   ]
  }
 ],
 "metadata": {
  "kernelspec": {
   "display_name": ".venv",
   "language": "python",
   "name": "python3"
  },
  "language_info": {
   "codemirror_mode": {
    "name": "ipython",
    "version": 3
   },
   "file_extension": ".py",
   "mimetype": "text/x-python",
   "name": "python",
   "nbconvert_exporter": "python",
   "pygments_lexer": "ipython3",
   "version": "3.11.6"
  }
 },
 "nbformat": 4,
 "nbformat_minor": 2
}
