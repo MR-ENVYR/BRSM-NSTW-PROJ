{
 "cells": [
  {
   "cell_type": "markdown",
   "metadata": {},
   "source": [
    "# Loneliness Scale"
   ]
  },
  {
   "cell_type": "code",
   "execution_count": 1,
   "metadata": {},
   "outputs": [
    {
     "data": {
      "text/plain": [
       "(   uid type 1. I feel in tune with the people around me  \\\n",
       " 0  u00  pre                                   Sometimes   \n",
       " 1  u01  pre                                   Sometimes   \n",
       " 2  u02  pre                                   Sometimes   \n",
       " 3  u03  pre                                   Sometimes   \n",
       " 4  u04  pre                                   Sometimes   \n",
       " \n",
       "   2. I lack companionship 3. There is no one I can turn to  \\\n",
       " 0                  Rarely                            Never   \n",
       " 1                  Rarely                           Rarely   \n",
       " 2                  Rarely                           Rarely   \n",
       " 3                  Rarely                            Never   \n",
       " 4               Sometimes                        Sometimes   \n",
       " \n",
       "   4. I do not feel alone 5. I feel part of a group of friends  \\\n",
       " 0                  Never                                Often   \n",
       " 1              Sometimes                                Often   \n",
       " 2                  Often                                Often   \n",
       " 3                  Often                               Rarely   \n",
       " 4              Sometimes                               Rarely   \n",
       " \n",
       "   6. I have a lot in common with the people around me  \\\n",
       " 0                                          Sometimes    \n",
       " 1                                              Often    \n",
       " 2                                              Often    \n",
       " 3                                             Rarely    \n",
       " 4                                          Sometimes    \n",
       " \n",
       "   7. I am no longer close to anyone  \\\n",
       " 0                             Never   \n",
       " 1                             Never   \n",
       " 2                             Never   \n",
       " 3                         Sometimes   \n",
       " 4                             Never   \n",
       " \n",
       "   8. My interests and ideas are not shared by those around me  ...  \\\n",
       " 0                                              Never           ...   \n",
       " 1                                              Never           ...   \n",
       " 2                                              Often           ...   \n",
       " 3                                          Sometimes           ...   \n",
       " 4                                             Rarely           ...   \n",
       " \n",
       "   11. I feel left out 12. My social relationships are superficial  \\\n",
       " 0              Rarely                                      Rarely   \n",
       " 1              Rarely                                      Rarely   \n",
       " 2              Rarely                                       Never   \n",
       " 3              Rarely                                      Rarely   \n",
       " 4           Sometimes                                   Sometimes   \n",
       " \n",
       "   13. No one really knows me well 14. I feel isolated from others  \\\n",
       " 0                           Never                           Never   \n",
       " 1                           Never                          Rarely   \n",
       " 2                           Never                           Never   \n",
       " 3                       Sometimes                       Sometimes   \n",
       " 4                       Sometimes                       Sometimes   \n",
       " \n",
       "   15. I can find companionship when I want it  \\\n",
       " 0                                       Often   \n",
       " 1                                       Often   \n",
       " 2                                       Often   \n",
       " 3                                   Sometimes   \n",
       " 4                                      Rarely   \n",
       " \n",
       "   16. There are people who really understand me  \\\n",
       " 0                                        Rarely   \n",
       " 1                                         Often   \n",
       " 2                                         Often   \n",
       " 3                                         Often   \n",
       " 4                                        Rarely   \n",
       " \n",
       "   17. I am unhappy being so withdrawn  \\\n",
       " 0                               Often   \n",
       " 1                           Sometimes   \n",
       " 2                               Never   \n",
       " 3                           Sometimes   \n",
       " 4                           Sometimes   \n",
       " \n",
       "   18. People are around me but not with me 19. There are people I can talk to  \\\n",
       " 0                                Sometimes                              Often   \n",
       " 1                                    Never                              Often   \n",
       " 2                                    Never                              Often   \n",
       " 3                                Sometimes                          Sometimes   \n",
       " 4                                Sometimes                             Rarely   \n",
       " \n",
       "   20. There are people I can turn to  \n",
       " 0                              Often  \n",
       " 1                              Often  \n",
       " 2                              Often  \n",
       " 3                          Sometimes  \n",
       " 4                             Rarely  \n",
       " \n",
       " [5 rows x 22 columns],\n",
       " Index(['uid', 'type', '1. I feel in tune with the people around me',\n",
       "        '2. I lack companionship', '3. There is no one I can turn to',\n",
       "        '4. I do not feel alone', '5. I feel part of a group of friends',\n",
       "        '6. I have a lot in common with the people around me',\n",
       "        '7. I am no longer close to anyone',\n",
       "        '8. My interests and ideas are not shared by those around me',\n",
       "        '9. I am an outgoing person', '10. There are people I feel close to',\n",
       "        '11. I feel left out', '12. My social relationships are superficial',\n",
       "        '13. No one really knows me well', '14. I feel isolated from others',\n",
       "        '15. I can find companionship when I want it',\n",
       "        '16. There are people who really understand me',\n",
       "        '17. I am unhappy being so withdrawn',\n",
       "        '18. People are around me but not with me',\n",
       "        '19. There are people I can talk to',\n",
       "        '20. There are people I can turn to'],\n",
       "       dtype='object'))"
      ]
     },
     "execution_count": 1,
     "metadata": {},
     "output_type": "execute_result"
    }
   ],
   "source": [
    "import pandas as pd\n",
    "\n",
    "# Load the data from the CSV file\n",
    "file_path = './survey/LonelinessScale.csv'\n",
    "loneliness_data = pd.read_csv(file_path)\n",
    "\n",
    "# Display the first few rows of the dataframe and its columns to understand its structure\n",
    "loneliness_data.head(), loneliness_data.columns"
   ]
  },
  {
   "cell_type": "code",
   "execution_count": 2,
   "metadata": {},
   "outputs": [
    {
     "name": "stdout",
     "output_type": "stream",
     "text": [
      "Unique values in 1. I feel in tune with the people around me: ['Sometimes' 'Rarely' 'Often']\n",
      "Unique values in 2. I lack companionship: ['Rarely' 'Sometimes' 'Never' 'Often']\n",
      "Unique values in 3. There is no one I can turn to: ['Never' 'Rarely' 'Sometimes' 'Often']\n"
     ]
    }
   ],
   "source": [
    "for column in loneliness_data.columns[2:5]:  # Check first three survey columns\n",
    "    print(f\"Unique values in {column}: {loneliness_data[column].astype(str).str.strip().str.title().unique()}\")\n",
    "\n",
    "response_mapping = {\n",
    "    'Never': 1,\n",
    "    'Rarely': 2,\n",
    "    'Sometimes': 3,\n",
    "    'Often': 4\n",
    "}\n",
    "\n",
    "# Apply the mapping to replace the textual responses with numeric scores\n",
    "for column in loneliness_data.columns[2:]:  # Assuming first two columns are 'uid' and 'type'\n",
    "    loneliness_data[column] = loneliness_data[column].astype(str).str.title().map(response_mapping)\n"
   ]
  },
  {
   "cell_type": "code",
   "execution_count": 3,
   "metadata": {},
   "outputs": [
    {
     "name": "stdout",
     "output_type": "stream",
     "text": [
      "NaN counts after mapping:\n",
      "uid                                                            0\n",
      "type                                                           0\n",
      "1. I feel in tune with the people around me                    0\n",
      "2. I lack companionship                                        0\n",
      "3. There is no one I can turn to                               0\n",
      "4. I do not feel alone                                         0\n",
      "5. I feel part of a group of friends                           0\n",
      "6. I have a lot in common with the people around me            0\n",
      "7. I am no longer close to anyone                              0\n",
      "8. My interests and ideas are not shared by those around me    0\n",
      "9. I am an outgoing person                                     0\n",
      "10. There are people I feel close to                           0\n",
      "11. I feel left out                                            0\n",
      "12. My social relationships are superficial                    0\n",
      "13. No one really knows me well                                0\n",
      "14. I feel isolated from others                                0\n",
      "15. I can find companionship when I want it                    0\n",
      "16. There are people who really understand me                  0\n",
      "17. I am unhappy being so withdrawn                            0\n",
      "18. People are around me but not with me                       0\n",
      "19. There are people I can talk to                             0\n",
      "20. There are people I can turn to                             0\n",
      "dtype: int64\n"
     ]
    }
   ],
   "source": [
    "print(\"NaN counts after mapping:\")\n",
    "print(loneliness_data.isna().sum())"
   ]
  },
  {
   "cell_type": "code",
   "execution_count": 4,
   "metadata": {},
   "outputs": [
    {
     "name": "stdout",
     "output_type": "stream",
     "text": [
      "Unique 'type' values before adjustment: ['pre' 'post']\n",
      "Unique 'uid' values check (sample): 63    u27\n",
      "41    u53\n",
      "80    u56\n",
      "60    u20\n",
      "28    u35\n",
      "Name: uid, dtype: object\n",
      "Number of participants in Pre only: 46\n",
      "Number of participants in Post only: 37\n",
      "Number of common participants: 37\n",
      "Final Pre data counts (non-NaN):\n",
      "uid                                                            37\n",
      "type                                                           37\n",
      "1. I feel in tune with the people around me                    37\n",
      "2. I lack companionship                                        37\n",
      "3. There is no one I can turn to                               37\n",
      "4. I do not feel alone                                         37\n",
      "5. I feel part of a group of friends                           37\n",
      "6. I have a lot in common with the people around me            37\n",
      "7. I am no longer close to anyone                              37\n",
      "8. My interests and ideas are not shared by those around me    37\n",
      "9. I am an outgoing person                                     37\n",
      "10. There are people I feel close to                           37\n",
      "11. I feel left out                                            37\n",
      "12. My social relationships are superficial                    37\n",
      "13. No one really knows me well                                37\n",
      "14. I feel isolated from others                                37\n",
      "15. I can find companionship when I want it                    37\n",
      "16. There are people who really understand me                  37\n",
      "17. I am unhappy being so withdrawn                            37\n",
      "18. People are around me but not with me                       37\n",
      "19. There are people I can talk to                             37\n",
      "20. There are people I can turn to                             37\n",
      "dtype: int64\n",
      "\n",
      "Final Post data counts (non-NaN):\n",
      "uid                                                            37\n",
      "type                                                           37\n",
      "1. I feel in tune with the people around me                    37\n",
      "2. I lack companionship                                        37\n",
      "3. There is no one I can turn to                               37\n",
      "4. I do not feel alone                                         37\n",
      "5. I feel part of a group of friends                           37\n",
      "6. I have a lot in common with the people around me            37\n",
      "7. I am no longer close to anyone                              37\n",
      "8. My interests and ideas are not shared by those around me    37\n",
      "9. I am an outgoing person                                     37\n",
      "10. There are people I feel close to                           37\n",
      "11. I feel left out                                            37\n",
      "12. My social relationships are superficial                    37\n",
      "13. No one really knows me well                                37\n",
      "14. I feel isolated from others                                37\n",
      "15. I can find companionship when I want it                    37\n",
      "16. There are people who really understand me                  37\n",
      "17. I am unhappy being so withdrawn                            37\n",
      "18. People are around me but not with me                       37\n",
      "19. There are people I can talk to                             37\n",
      "20. There are people I can turn to                             37\n",
      "dtype: int64\n"
     ]
    }
   ],
   "source": [
    "print(\"Unique 'type' values before adjustment:\", loneliness_data['type'].unique())\n",
    "\n",
    "# Normalize 'type' field for consistency\n",
    "loneliness_data['type'] = loneliness_data['type'].str.strip().str.title()\n",
    "\n",
    "# Verify 'uid' consistency and format\n",
    "print(\"Unique 'uid' values check (sample):\", loneliness_data['uid'].sample(5))\n",
    "\n",
    "# Identify participants who have both Pre and Post data\n",
    "pre_participants = set(loneliness_data[loneliness_data['type'] == 'Pre']['uid'])\n",
    "post_participants = set(loneliness_data[loneliness_data['type'] == 'Post']['uid'])\n",
    "common_participants = pre_participants & post_participants\n",
    "\n",
    "print(f\"Number of participants in Pre only: {len(pre_participants)}\")\n",
    "print(f\"Number of participants in Post only: {len(post_participants)}\")\n",
    "print(f\"Number of common participants: {len(common_participants)}\")\n",
    "\n",
    "# Filter datasets to only include common participants\n",
    "pre_data = loneliness_data[(loneliness_data['type'] == 'Pre') & (loneliness_data['uid'].isin(common_participants))]\n",
    "post_data = loneliness_data[(loneliness_data['type'] == 'Post') & (loneliness_data['uid'].isin(common_participants))]\n",
    "\n",
    "# Save the filtered data\n",
    "pre_data.to_csv('./data/LonelinessScale/LonelinessScale_Pre.csv', index=False)\n",
    "post_data.to_csv('./data/LonelinessScale/LonelinessScale_Post.csv', index=False)\n",
    "\n",
    "# Check final data counts\n",
    "print(\"Final Pre data counts (non-NaN):\")\n",
    "print(pre_data.count())\n",
    "print(\"\\nFinal Post data counts (non-NaN):\")\n",
    "print(post_data.count())"
   ]
  },
  {
   "cell_type": "code",
   "execution_count": 5,
   "metadata": {},
   "outputs": [
    {
     "name": "stdout",
     "output_type": "stream",
     "text": [
      "Final Pre data counts (non-NaN):\n",
      "uid                                                            37\n",
      "type                                                           37\n",
      "1. I feel in tune with the people around me                    37\n",
      "2. I lack companionship                                        37\n",
      "3. There is no one I can turn to                               37\n",
      "4. I do not feel alone                                         37\n",
      "5. I feel part of a group of friends                           37\n",
      "6. I have a lot in common with the people around me            37\n",
      "7. I am no longer close to anyone                              37\n",
      "8. My interests and ideas are not shared by those around me    37\n",
      "9. I am an outgoing person                                     37\n",
      "10. There are people I feel close to                           37\n",
      "11. I feel left out                                            37\n",
      "12. My social relationships are superficial                    37\n",
      "13. No one really knows me well                                37\n",
      "14. I feel isolated from others                                37\n",
      "15. I can find companionship when I want it                    37\n",
      "16. There are people who really understand me                  37\n",
      "17. I am unhappy being so withdrawn                            37\n",
      "18. People are around me but not with me                       37\n",
      "19. There are people I can talk to                             37\n",
      "20. There are people I can turn to                             37\n",
      "dtype: int64\n",
      "\n",
      "Final Post data counts (non-NaN):\n",
      "uid                                                            37\n",
      "type                                                           37\n",
      "1. I feel in tune with the people around me                    37\n",
      "2. I lack companionship                                        37\n",
      "3. There is no one I can turn to                               37\n",
      "4. I do not feel alone                                         37\n",
      "5. I feel part of a group of friends                           37\n",
      "6. I have a lot in common with the people around me            37\n",
      "7. I am no longer close to anyone                              37\n",
      "8. My interests and ideas are not shared by those around me    37\n",
      "9. I am an outgoing person                                     37\n",
      "10. There are people I feel close to                           37\n",
      "11. I feel left out                                            37\n",
      "12. My social relationships are superficial                    37\n",
      "13. No one really knows me well                                37\n",
      "14. I feel isolated from others                                37\n",
      "15. I can find companionship when I want it                    37\n",
      "16. There are people who really understand me                  37\n",
      "17. I am unhappy being so withdrawn                            37\n",
      "18. People are around me but not with me                       37\n",
      "19. There are people I can talk to                             37\n",
      "20. There are people I can turn to                             37\n",
      "dtype: int64\n"
     ]
    }
   ],
   "source": [
    "pre_data = pd.read_csv('./data/LonelinessScale/LonelinessScale_Pre.csv')\n",
    "post_data = pd.read_csv('./data/LonelinessScale/LonelinessScale_Post.csv')\n",
    "\n",
    "# Check final data counts\n",
    "print(\"Final Pre data counts (non-NaN):\")\n",
    "print(pre_data.count())\n",
    "print(\"\\nFinal Post data counts (non-NaN):\")\n",
    "print(post_data.count())\n",
    "\n",
    "# calculate the sum of the scores for each participant\n",
    "pre_data['total_score'] = pre_data.iloc[:, 2:].sum(axis=1)\n",
    "post_data['total_score'] = post_data.iloc[:, 2:].sum(axis=1)\n",
    "\n",
    "# Save the total scores\n",
    "pre_data.to_csv('./data/LonelinessScale/LonelinessScale_Pre.csv', index=False)\n",
    "post_data.to_csv('./data/LonelinessScale/LonelinessScale_Post.csv', index=False)"
   ]
  },
  {
   "cell_type": "code",
   "execution_count": 6,
   "metadata": {},
   "outputs": [
    {
     "name": "stdout",
     "output_type": "stream",
     "text": [
      "Pre Mean: 54.108108108108105\n",
      "Post Mean: 53.62162162162162\n",
      "Pre Median: 53.0\n",
      "Post Median: 53.0\n",
      "Pre Mode: 0    53\n",
      "Name: total_score, dtype: int64\n",
      "Post Mode: 0    51\n",
      "1    53\n",
      "Name: total_score, dtype: int64\n",
      "Pre Standard Deviation: 4.053693677676254\n",
      "Post Standard Deviation: 5.095484664285034\n"
     ]
    }
   ],
   "source": [
    "# Calculate the mean,median,mode,SD total score for each group\n",
    "\n",
    "pre_mean = pre_data['total_score'].mean()\n",
    "post_mean = post_data['total_score'].mean()\n",
    "pre_median = pre_data['total_score'].median()\n",
    "post_median = post_data['total_score'].median()\n",
    "pre_mode = pre_data['total_score'].mode()\n",
    "post_mode = post_data['total_score'].mode()\n",
    "pre_sd = pre_data['total_score'].std()\n",
    "post_sd = post_data['total_score'].std()\n",
    "\n",
    "print(f\"Pre Mean: {pre_mean}\")\n",
    "print(f\"Post Mean: {post_mean}\")\n",
    "print(f\"Pre Median: {pre_median}\")\n",
    "print(f\"Post Median: {post_median}\")\n",
    "print(f\"Pre Mode: {pre_mode}\")\n",
    "print(f\"Post Mode: {post_mode}\")\n",
    "print(f\"Pre Standard Deviation: {pre_sd}\")\n",
    "print(f\"Post Standard Deviation: {post_sd}\")"
   ]
  },
  {
   "cell_type": "markdown",
   "metadata": {},
   "source": [
    "## Visualization of Data"
   ]
  },
  {
   "cell_type": "code",
   "execution_count": 12,
   "metadata": {},
   "outputs": [
    {
     "data": {
      "image/png": "[encoded data removed]",
      "text/plain": [
       "<Figure size 1000x600 with 1 Axes>"
      ]
     },
     "metadata": {},
     "output_type": "display_data"
    }
   ],
   "source": [
    "import matplotlib.pyplot as plt\n",
    "\n",
    "# Load the pre and post datasets\n",
    "pre_data = pd.read_csv('./data/LonelinessScale/LonelinessScale_Pre.csv')\n",
    "post_data = pd.read_csv('./data/LonelinessScale/LonelinessScale_Post.csv')\n",
    "\n",
    "# Plot the total score for each student pre and post\n",
    "plt.figure(figsize=(10, 6))\n",
    "\n",
    "# Plot pre data\n",
    "plt.scatter(pre_data.index, pre_data['total_score'], label='Pre', color='blue', marker='o')\n",
    "\n",
    "# Plot post data\n",
    "plt.scatter(post_data.index, post_data['total_score'], label='Post', color='red', marker='x')\n",
    "\n",
    "# Add labels and title\n",
    "plt.xlabel('Student Index')\n",
    "plt.ylabel('Total Score')\n",
    "plt.title('Total Score of Each Student Pre and Post')\n",
    "\n",
    "# Add legend\n",
    "plt.legend()\n",
    "\n",
    "# Show plot\n",
    "plt.grid(True)\n",
    "plt.tight_layout()\n",
    "plt.show()\n"
   ]
  },
  {
   "cell_type": "code",
   "execution_count": 8,
   "metadata": {},
   "outputs": [
    {
     "data": {
      "image/png": "[encoded data removed]",
      "text/plain": [
       "<Figure size 800x600 with 1 Axes>"
      ]
     },
     "metadata": {},
     "output_type": "display_data"
    }
   ],
   "source": [
    "avg_pre_total_score = pre_data['total_score'].mean()\n",
    "avg_post_total_score = post_data['total_score'].mean()\n",
    "\n",
    "# Create a bar plot to visualize the change\n",
    "plt.figure(figsize=(8, 6))\n",
    "plt.bar(['Pre', 'Post'], [avg_pre_total_score, avg_post_total_score], color=['blue', 'green'])\n",
    "plt.title('Average Total Loneliness Score Before and After Intervention')\n",
    "plt.xlabel('Intervention Type')\n",
    "plt.ylabel('Average Total Loneliness Score')\n",
    "plt.ylim(0, max(avg_pre_total_score, avg_post_total_score) + 5)  # Adjust ylim for better visualization\n",
    "plt.grid(axis='y', linestyle='--', alpha=0.7)\n",
    "\n",
    "# Annotate the bars with the exact values\n",
    "for i, score in enumerate([avg_pre_total_score, avg_post_total_score]):\n",
    "    plt.text(i, score + 1, f'{score:.2f}', ha='center', va='bottom', fontsize=12)\n",
    "\n",
    "# Show plot\n",
    "plt.tight_layout()\n",
    "plt.show()\n"
   ]
  },
  {
   "cell_type": "markdown",
   "metadata": {},
   "source": [
    "## Paired T-Test"
   ]
  },
  {
   "cell_type": "code",
   "execution_count": 9,
   "metadata": {},
   "outputs": [
    {
     "name": "stdout",
     "output_type": "stream",
     "text": [
      "Shapiro-Wilk p-value for pre data: 0.5598312096523858\n",
      "Shapiro-Wilk p-value for post data: 0.48804423494121324\n",
      "Levene's p-value: 0.31221946972607495\n"
     ]
    }
   ],
   "source": [
    "from scipy.stats import shapiro, levene\n",
    "\n",
    "# Extract total loneliness scores for pre and post data\n",
    "pre_total_scores = pre_data['total_score']\n",
    "post_total_scores = post_data['total_score']\n",
    "\n",
    "# Shapiro-Wilk test for normality\n",
    "_, pre_shapiro_pvalue = shapiro(pre_total_scores)\n",
    "_, post_shapiro_pvalue = shapiro(post_total_scores)\n",
    "\n",
    "# Levene's test for equal variance\n",
    "_, levene_pvalue = levene(pre_total_scores, post_total_scores)\n",
    "\n",
    "# Print the p-values\n",
    "print(\"Shapiro-Wilk p-value for pre data:\", pre_shapiro_pvalue)\n",
    "print(\"Shapiro-Wilk p-value for post data:\", post_shapiro_pvalue)\n",
    "print(\"Levene's p-value:\", levene_pvalue)"
   ]
  },
  {
   "cell_type": "code",
   "execution_count": 10,
   "metadata": {},
   "outputs": [
    {
     "name": "stdout",
     "output_type": "stream",
     "text": [
      "Paired t-test results:\n",
      "t-statistic: 0.6853034684986073\n",
      "p-value: 0.49754179363789675\n",
      "The change in average total loneliness score is not statistically significant.\n"
     ]
    }
   ],
   "source": [
    "from scipy.stats import ttest_rel\n",
    "\n",
    "# Perform paired t-test\n",
    "t_statistic, p_value = ttest_rel(pre_total_scores, post_total_scores)\n",
    "\n",
    "# Output the results\n",
    "print(\"Paired t-test results:\")\n",
    "print(f\"t-statistic: {t_statistic}\")\n",
    "print(f\"p-value: {p_value}\")\n",
    "\n",
    "# Check for statistical significance\n",
    "alpha = 0.05  # Set the significance level\n",
    "if p_value < alpha:\n",
    "    print(\"The change in average total loneliness score is statistically significant.\")\n",
    "else:\n",
    "    print(\"The change in average total loneliness score is not statistically significant.\")\n"
   ]
  },
  {
   "cell_type": "code",
   "execution_count": 11,
   "metadata": {},
   "outputs": [
    {
     "name": "stdout",
     "output_type": "stream",
     "text": [
      "Cohen's d: -0.10566260336666422\n"
     ]
    }
   ],
   "source": [
    "import numpy as np\n",
    "\n",
    "mean_pre = np.mean(pre_total_scores)\n",
    "mean_post = np.mean(post_total_scores)\n",
    "\n",
    "# Calculate pooled standard deviation\n",
    "n_pre = len(pre_total_scores)\n",
    "n_post = len(post_total_scores)\n",
    "var_pre = np.var(pre_total_scores, ddof=1)  # Use ddof=1 for sample variance\n",
    "var_post = np.var(post_total_scores, ddof=1)\n",
    "pooled_std = np.sqrt(((n_pre - 1) * var_pre + (n_post - 1) * var_post) / (n_pre + n_post - 2))\n",
    "\n",
    "# Calculate Cohen's d\n",
    "cohen_d = (mean_post - mean_pre) / pooled_std\n",
    "\n",
    "print(\"Cohen's d:\", cohen_d)"
   ]
  }
 ],
 "metadata": {
  "kernelspec": {
   "display_name": ".venv",
   "language": "python",
   "name": "python3"
  },
  "language_info": {
   "codemirror_mode": {
    "name": "ipython",
    "version": 3
   },
   "file_extension": ".py",
   "mimetype": "text/x-python",
   "name": "python",
   "nbconvert_exporter": "python",
   "pygments_lexer": "ipython3",
   "version": "3.11.6"
  }
 },
 "nbformat": 4,
 "nbformat_minor": 2
}
